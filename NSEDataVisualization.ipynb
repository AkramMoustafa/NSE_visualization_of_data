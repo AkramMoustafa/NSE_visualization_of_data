{
  "nbformat": 4,
  "nbformat_minor": 0,
  "metadata": {
    "colab": {
      "provenance": []
    },
    "kernelspec": {
      "name": "python3",
      "display_name": "Python 3"
    },
    "language_info": {
      "name": "python"
    }
  },
  "cells": [
    {
      "cell_type": "code",
      "execution_count": 11,
      "metadata": {
        "colab": {
          "base_uri": "https://localhost:8080/"
        },
        "id": "3crgA1O5glEk",
        "outputId": "27efba19-2714-4708-8368-d6ca3c39e43b"
      },
      "outputs": [
        {
          "output_type": "stream",
          "name": "stdout",
          "text": [
            "Requirement already satisfied: torch in /usr/local/lib/python3.11/dist-packages (2.6.0+cu124)\n",
            "Requirement already satisfied: numpy in /usr/local/lib/python3.11/dist-packages (2.0.2)\n",
            "Requirement already satisfied: scipy in /usr/local/lib/python3.11/dist-packages (1.15.3)\n",
            "Requirement already satisfied: matplotlib in /usr/local/lib/python3.11/dist-packages (3.10.0)\n",
            "Requirement already satisfied: filelock in /usr/local/lib/python3.11/dist-packages (from torch) (3.18.0)\n",
            "Requirement already satisfied: typing-extensions>=4.10.0 in /usr/local/lib/python3.11/dist-packages (from torch) (4.13.2)\n",
            "Requirement already satisfied: networkx in /usr/local/lib/python3.11/dist-packages (from torch) (3.4.2)\n",
            "Requirement already satisfied: jinja2 in /usr/local/lib/python3.11/dist-packages (from torch) (3.1.6)\n",
            "Requirement already satisfied: fsspec in /usr/local/lib/python3.11/dist-packages (from torch) (2025.3.2)\n",
            "Requirement already satisfied: nvidia-cuda-nvrtc-cu12==12.4.127 in /usr/local/lib/python3.11/dist-packages (from torch) (12.4.127)\n",
            "Requirement already satisfied: nvidia-cuda-runtime-cu12==12.4.127 in /usr/local/lib/python3.11/dist-packages (from torch) (12.4.127)\n",
            "Requirement already satisfied: nvidia-cuda-cupti-cu12==12.4.127 in /usr/local/lib/python3.11/dist-packages (from torch) (12.4.127)\n",
            "Requirement already satisfied: nvidia-cudnn-cu12==9.1.0.70 in /usr/local/lib/python3.11/dist-packages (from torch) (9.1.0.70)\n",
            "Requirement already satisfied: nvidia-cublas-cu12==12.4.5.8 in /usr/local/lib/python3.11/dist-packages (from torch) (12.4.5.8)\n",
            "Requirement already satisfied: nvidia-cufft-cu12==11.2.1.3 in /usr/local/lib/python3.11/dist-packages (from torch) (11.2.1.3)\n",
            "Requirement already satisfied: nvidia-curand-cu12==10.3.5.147 in /usr/local/lib/python3.11/dist-packages (from torch) (10.3.5.147)\n",
            "Requirement already satisfied: nvidia-cusolver-cu12==11.6.1.9 in /usr/local/lib/python3.11/dist-packages (from torch) (11.6.1.9)\n",
            "Requirement already satisfied: nvidia-cusparse-cu12==12.3.1.170 in /usr/local/lib/python3.11/dist-packages (from torch) (12.3.1.170)\n",
            "Requirement already satisfied: nvidia-cusparselt-cu12==0.6.2 in /usr/local/lib/python3.11/dist-packages (from torch) (0.6.2)\n",
            "Requirement already satisfied: nvidia-nccl-cu12==2.21.5 in /usr/local/lib/python3.11/dist-packages (from torch) (2.21.5)\n",
            "Requirement already satisfied: nvidia-nvtx-cu12==12.4.127 in /usr/local/lib/python3.11/dist-packages (from torch) (12.4.127)\n",
            "Requirement already satisfied: nvidia-nvjitlink-cu12==12.4.127 in /usr/local/lib/python3.11/dist-packages (from torch) (12.4.127)\n",
            "Requirement already satisfied: triton==3.2.0 in /usr/local/lib/python3.11/dist-packages (from torch) (3.2.0)\n",
            "Requirement already satisfied: sympy==1.13.1 in /usr/local/lib/python3.11/dist-packages (from torch) (1.13.1)\n",
            "Requirement already satisfied: mpmath<1.4,>=1.1.0 in /usr/local/lib/python3.11/dist-packages (from sympy==1.13.1->torch) (1.3.0)\n",
            "Requirement already satisfied: contourpy>=1.0.1 in /usr/local/lib/python3.11/dist-packages (from matplotlib) (1.3.2)\n",
            "Requirement already satisfied: cycler>=0.10 in /usr/local/lib/python3.11/dist-packages (from matplotlib) (0.12.1)\n",
            "Requirement already satisfied: fonttools>=4.22.0 in /usr/local/lib/python3.11/dist-packages (from matplotlib) (4.58.0)\n",
            "Requirement already satisfied: kiwisolver>=1.3.1 in /usr/local/lib/python3.11/dist-packages (from matplotlib) (1.4.8)\n",
            "Requirement already satisfied: packaging>=20.0 in /usr/local/lib/python3.11/dist-packages (from matplotlib) (24.2)\n",
            "Requirement already satisfied: pillow>=8 in /usr/local/lib/python3.11/dist-packages (from matplotlib) (11.2.1)\n",
            "Requirement already satisfied: pyparsing>=2.3.1 in /usr/local/lib/python3.11/dist-packages (from matplotlib) (3.2.3)\n",
            "Requirement already satisfied: python-dateutil>=2.7 in /usr/local/lib/python3.11/dist-packages (from matplotlib) (2.9.0.post0)\n",
            "Requirement already satisfied: six>=1.5 in /usr/local/lib/python3.11/dist-packages (from python-dateutil>=2.7->matplotlib) (1.17.0)\n",
            "Requirement already satisfied: MarkupSafe>=2.0 in /usr/local/lib/python3.11/dist-packages (from jinja2->torch) (3.0.2)\n"
          ]
        }
      ],
      "source": [
        "import numpy as np\n",
        "import pandas as pd\n",
        "import matplotlib.pyplot as plt\n",
        "import torch\n",
        "import torch.nn as nn\n",
        "import scipy.io\n",
        "import torch.nn.functional as F\n",
        "import torch.optim as optim\n",
        "from google.colab import drive\n",
        "from pathlib import Path\n",
        "!pip install torch numpy scipy matplotlib\n",
        "import matplotlib.animation as animation\n",
        "from scipy.io import loadmat"
      ]
    },
    {
      "cell_type": "code",
      "source": [
        "\n",
        "drive.mount('/content/drive')\n",
        "\n",
        "file_path = '/content/drive/My Drive/NS2D_InitialData.mat'\n",
        "\n",
        "# Load the .mat file\n",
        "data = loadmat(file_path)\n",
        "\n",
        "# See all variable names inside the file\n",
        "print(data.keys())"
      ],
      "metadata": {
        "colab": {
          "base_uri": "https://localhost:8080/"
        },
        "id": "SACgQYKng1VO",
        "outputId": "4bf552f1-00a2-4ace-8d79-f058518254b9"
      },
      "execution_count": 9,
      "outputs": [
        {
          "output_type": "stream",
          "name": "stdout",
          "text": [
            "Drive already mounted at /content/drive; to attempt to forcibly remount, call drive.mount(\"/content/drive\", force_remount=True).\n",
            "dict_keys(['__header__', '__version__', '__globals__', 'X_star', 't', 'U_star', 'p_star'])\n"
          ]
        }
      ]
    },
    {
      "cell_type": "code",
      "source": [
        "data = scipy.io.loadmat(file_path)\n",
        "\n",
        "N_train =5000\n",
        "\n",
        "U_star = data['U_star']  # N x 2 x T\n",
        "P_star = data['p_star']  # N x T\n",
        "t_star = data['t']  # T x 1\n",
        "X_star = data['X_star']  # N x 2\n",
        "\n",
        "N = X_star.shape[0]\n",
        "T = t_star.shape[0]\n",
        "\n",
        "x_test = X_star[:, 0:1]\n",
        "y_test = X_star[:, 1:2]\n",
        "p_test = P_star[:, 0:1]\n",
        "u_test = U_star[:, 0:1, 0]\n",
        "t_test = 10*np.ones((x_test.shape[0], x_test.shape[1]))\n",
        "\n",
        "# Rearrange Data\n",
        "XX = np.tile(X_star[:, 0:1], (1, T))  # N x T\n",
        "YY = np.tile(X_star[:, 1:2], (1, T))  # N x T\n",
        "TT = np.tile(t_star, (1, N)).T  # N x T\n",
        "\n",
        "UU = U_star[:, 0, :]  # N x T\n",
        "VV = U_star[:, 1, :]  # N x T\n",
        "PP = P_star  # N x T\n",
        "\n",
        "x = XX.flatten()[:, None]  # NT x 1\n",
        "y = YY.flatten()[:, None]  # NT x 1\n",
        "t = TT.flatten()[:, None]  # NT x 1\n",
        "\n",
        "u = UU.flatten()[:, None]  # NT x 1\n",
        "v = VV.flatten()[:, None]  # NT x 1\n",
        "p = PP.flatten()[:, None]  # NT x 1\n",
        "\n",
        "# Training Data\n",
        "idx = np.random.choice(N * T, N_train, replace=False)\n",
        "x_train = x[idx, :]\n",
        "y_train = y[idx, :]\n",
        "t_train = t[idx, :]\n",
        "u_train = u[idx, :]\n",
        "v_train = v[idx, :]"
      ],
      "metadata": {
        "id": "7nyicQIVg9lW"
      },
      "execution_count": 14,
      "outputs": []
    },
    {
      "cell_type": "code",
      "source": [
        "\"\"\"\n",
        "# Quiver Plot of Fluid Velocity\n",
        "# This visualization displays how fluid motion evolves over time by plotting velocity vectors (u, v) at each grid point.\n",
        "# The resulting animation is exported as a GIF for understanding fluid's behavior\n",
        "\"\"\"\n",
        "\n",
        "# Grid size\n",
        "nx, ny = 100, 50\n",
        "\n",
        "# Create meshgrid\n",
        "x = np.linspace(0, 1, nx)\n",
        "y = np.linspace(0, 1, ny)\n",
        "X, Y = np.meshgrid(x, y)\n",
        "\n",
        "# Unique sorted time steps\n",
        "time_steps = np.unique(t[:, 0])\n",
        "\n",
        "# Create figure and axis\n",
        "fig, ax = plt.subplots(figsize=(10, 5))\n",
        "q = ax.quiver(X, Y, np.zeros_like(X), np.zeros_like(Y), scale=15)\n",
        "\n",
        "# Function to update the animation for each time step\n",
        "def update(frame):\n",
        "    ax.clear()\n",
        "    t_val = time_steps[frame]\n",
        "    t_idx = np.where(np.isclose(t[:, 0], t_val))[0]\n",
        "\n",
        "    u_frame = u[t_idx].reshape(ny, nx)\n",
        "    v_frame = v[t_idx].reshape(ny, nx)\n",
        "\n",
        "    ax.quiver(X, Y, u_frame, v_frame, scale=20, color='black')\n",
        "    ax.set_title(f\"Velocity Field at t = {t_val:.2f}\")\n",
        "    ax.set_xlabel(\"x\")\n",
        "    ax.set_ylabel(\"y\")\n",
        "    ax.grid(True)\n",
        "    return []\n",
        "\n",
        "ani = animation.FuncAnimation(fig, update, frames=len(time_steps), interval=200)\n",
        "\n",
        "# Saving The gif in google colab\n",
        "ani.save(\"/content/drive/My Drive/velocity_quiver_animation.gif\", writer=\"pillow\", fps=5)\n",
        "\n",
        "plt.close()\n"
      ],
      "metadata": {
        "id": "qAcl1Gbjg-w6"
      },
      "execution_count": 15,
      "outputs": []
    },
    {
      "cell_type": "code",
      "source": [
        "\"\"\"\n",
        "# Heatmap of Pressure Over Time\n",
        "# Chart creates a 2-dimensional pressure map with dimensions 100 (x-axis) × 50 (y-axis) = 5000 spatial points\n",
        "# The output is saved as a GIF showing how pressure changes across the domain over time\n",
        "\"\"\"\n",
        "nx, ny = 100, 50\n",
        "\n",
        "time_steps = np.unique(t)\n",
        "\n",
        "fig, ax = plt.subplots()\n",
        "\n",
        "# Function to update the animation for each time step\n",
        "def update(frame):\n",
        "    ax.clear()\n",
        "    t_val = time_steps[frame]\n",
        "    t_idx = np.where(np.isclose(t[:, 0], t_val))[0]\n",
        "    p_frame = p[t_idx].reshape(ny, nx)\n",
        "    ax.contourf(p_frame, levels=30, cmap='jet')\n",
        "    ax.set_title(f\"Pressure at t = {t_val:.2f}\")\n",
        "    ax.set_xlabel(\"x\")\n",
        "    ax.set_ylabel(\"y\")\n",
        "    return []\n",
        "\n",
        "# Saving The gif in google colab\n",
        "ani = animation.FuncAnimation(fig, update, frames=len(time_steps), interval=200)\n",
        "\n",
        "ani.save(\"/content/drive/My Drive/pressure_evolution.gif\", writer=\"pillow\", fps=5)\n",
        "plt.close()"
      ],
      "metadata": {
        "colab": {
          "base_uri": "https://localhost:8080/",
          "height": 472
        },
        "id": "6Y3GypFLjY2k",
        "outputId": "3ad28475-bb2d-4786-f892-e2da1ffa26c2"
      },
      "execution_count": 16,
      "outputs": [
        {
          "output_type": "display_data",
          "data": {
            "text/plain": [
              "<Figure size 640x480 with 1 Axes>"
            ],
            "image/png": "[encoded data removed]"
          },
          "metadata": {}
        }
      ]
    }
  ]
}